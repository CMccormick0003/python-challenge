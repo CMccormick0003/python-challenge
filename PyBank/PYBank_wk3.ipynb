{
 "cells": [
  {
   "cell_type": "code",
   "execution_count": 1,
   "id": "3cd88a79",
   "metadata": {},
   "outputs": [],
   "source": [
    "import csv\n",
    "import os\n",
    "from datetime import datetime\n"
   ]
  },
  {
   "cell_type": "code",
   "execution_count": 2,
   "id": "5c207116",
   "metadata": {},
   "outputs": [],
   "source": [
    "#files to load\n",
    "file_to_load = os.path.join(\".\", \"Resources\",\"budget_data.csv\")\n",
    "file_to_output = os.path.join(\".\", \"Analysis\",\"financial_analysis.txt\")"
   ]
  },
  {
   "cell_type": "code",
   "execution_count": 3,
   "id": "5fdc4b2a",
   "metadata": {},
   "outputs": [
    {
     "name": "stdout",
     "output_type": "stream",
     "text": [
      "['Date', 'Profit/Losses']\n",
      "['Jan-10', '1088983']\n",
      "['Feb-10', '-354534']\n",
      "['Mar-10', '276622']\n",
      "['Apr-10', '-728133']\n",
      "['May-10', '852993']\n",
      "['Jun-10', '563721']\n",
      "['Jul-10', '-535208']\n",
      "['Aug-10', '632349']\n",
      "['Sep-10', '-173744']\n",
      "['Oct-10', '950741']\n",
      "['Nov-10', '-785750']\n",
      "['Dec-10', '-1194133']\n",
      "['Jan-11', '-589576']\n",
      "['Feb-11', '-883921']\n",
      "['Mar-11', '443564']\n",
      "['Apr-11', '837887']\n",
      "['May-11', '1081472']\n",
      "['Jun-11', '464033']\n",
      "['Jul-11', '-1066544']\n",
      "['Aug-11', '323846']\n",
      "['Sep-11', '-806551']\n",
      "['Oct-11', '487053']\n",
      "['Nov-11', '1128811']\n",
      "['Dec-11', '791398']\n",
      "['Jan-12', '739367']\n",
      "['Feb-12', '-197825']\n",
      "['Mar-12', '666016']\n",
      "['Apr-12', '589771']\n",
      "['May-12', '489290']\n",
      "['Jun-12', '-471439']\n",
      "['Jul-12', '120417']\n",
      "['Aug-12', '175347']\n",
      "['Sep-12', '855449']\n",
      "['Oct-12', '605195']\n",
      "['Nov-12', '-235220']\n",
      "['Dec-12', '347138']\n",
      "['Jan-13', '298510']\n",
      "['Feb-13', '163254']\n",
      "['Mar-13', '1141840']\n",
      "['Apr-13', '542630']\n",
      "['May-13', '99841']\n",
      "['Jun-13', '752765']\n",
      "['Jul-13', '-252949']\n",
      "['Aug-13', '914424']\n",
      "['Sep-13', '679524']\n",
      "['Oct-13', '514377']\n",
      "['Nov-13', '462102']\n",
      "['Dec-13', '159782']\n",
      "['Jan-14', '878810']\n",
      "['Feb-14', '-946748']\n",
      "['Mar-14', '340335']\n",
      "['Apr-14', '292032']\n",
      "['May-14', '502266']\n",
      "['Jun-14', '265852']\n",
      "['Jul-14', '851017']\n",
      "['Aug-14', '-549615']\n",
      "['Sep-14', '290162']\n",
      "['Oct-14', '755391']\n",
      "['Nov-14', '1073202']\n",
      "['Dec-14', '313000']\n",
      "['Jan-15', '241132']\n",
      "['Feb-15', '1036589']\n",
      "['Mar-15', '853904']\n",
      "['Apr-15', '-388932']\n",
      "['May-15', '982952']\n",
      "['Jun-15', '537759']\n",
      "['Jul-15', '547784']\n",
      "['Aug-15', '-496214']\n",
      "['Sep-15', '854181']\n",
      "['Oct-15', '934719']\n",
      "['Nov-15', '-288531']\n",
      "['Dec-15', '-184383']\n",
      "['Jan-16', '659541']\n",
      "['Feb-16', '-1149123']\n",
      "['Mar-16', '355882']\n",
      "['Apr-16', '662284']\n",
      "['May-16', '518681']\n",
      "['Jun-16', '-748256']\n",
      "['Jul-16', '-910775']\n",
      "['Aug-16', '951227']\n",
      "['Sep-16', '898241']\n",
      "['Oct-16', '-729004']\n",
      "['Nov-16', '-112209']\n",
      "['Dec-16', '516313']\n",
      "['Jan-17', '607208']\n",
      "['Feb-17', '382539']\n",
      "First month number is 1.\n",
      "Last month number is 2.\n"
     ]
    }
   ],
   "source": [
    "# opening the CSV file\n",
    "with open(file_to_load, mode ='r')as file:\n",
    "\n",
    "# reading the CSV file\n",
    "  csvFile = csv.reader(file)\n",
    "\n",
    "  data_entries = []  \n",
    "    \n",
    "  # displaying the contents of the CSV file\n",
    "  for lines in csvFile:\n",
    "        data_entries.append(lines)\n",
    "        print(lines)\n",
    "        \n",
    "  #look at the info in the first column of the first row.  Make the year an integer.    \n",
    "  first_date_only = data_entries[1][0]\n",
    "  first_year_only = int(\"20\" + first_date_only[-2:])\n",
    "  #Remove month from the date and make it an integer. \n",
    "  first_month_only = datetime.strptime(first_date_only[:3],'%b').month\n",
    "\n",
    "  #look at the info in the first column of the first row.  Make the year an integer.\n",
    "  last_date_only = data_entries[-1][0]\n",
    "  last_year_only = int(\"20\" + last_date_only[-2:])\n",
    "  #Remove month from the date and make it an integer.    \n",
    "  last_month_only = datetime.strptime(last_date_only[:3],'%b').month\n",
    "    \n",
    "  print(\"First month number is \"+str(first_month_only)+\".\\nLast month number is \"+str(last_month_only)+\".\")"
   ]
  },
  {
   "cell_type": "code",
   "execution_count": 4,
   "id": "78fd7f0a",
   "metadata": {},
   "outputs": [
    {
     "name": "stdout",
     "output_type": "stream",
     "text": [
      "Total Months: 86\n"
     ]
    }
   ],
   "source": [
    "def months(d2, d1):\n",
    "    return 1+d2.month - d1.month + 12*(d2.year - d1.year)\n",
    "\n",
    "first_date = datetime(first_year_only, first_month_only, 1)  \n",
    "last_date = datetime(last_year_only, last_month_only, 1) \n",
    "\n",
    "total_months_in_period = months(last_date, first_date)\n",
    "\n",
    "print(\"Total Months: \" +str(months(last_date, first_date)))"
   ]
  },
  {
   "cell_type": "code",
   "execution_count": 5,
   "id": "c947ac72",
   "metadata": {},
   "outputs": [],
   "source": [
    "# opening the CSV file\n",
    "with open(file_to_load, mode ='r')as file:\n",
    "\n",
    "# reading the CSV file\n",
    "    csvFile = csv.reader(file)\n",
    "    \n",
    "    header = next(csvFile)\n",
    "    \n",
    "    #define the running total of net profit/loss\n",
    "    running_total = 0\n",
    "    \n",
    "    # names the variables in the CSV file\n",
    "    for monthly_date,monthly_profit_loss in csvFile:\n",
    "        running_total += int(monthly_profit_loss)"
   ]
  },
  {
   "cell_type": "code",
   "execution_count": 6,
   "id": "dd56a336",
   "metadata": {},
   "outputs": [
    {
     "name": "stdout",
     "output_type": "stream",
     "text": [
      "Total: $22564198\n"
     ]
    }
   ],
   "source": [
    "print(\"Total: $\" + str(running_total))"
   ]
  },
  {
   "cell_type": "code",
   "execution_count": 7,
   "id": "f58be5a5",
   "metadata": {},
   "outputs": [
    {
     "name": "stdout",
     "output_type": "stream",
     "text": [
      "[-1443517, 631156, -1004755, 1581126, -289272, -1098929, 1167557, -806093, 1124485, -1736491, -408383, 604557, -294345, 1327485, 394323, 243585, -617439, -1530577, 1390390, -1130397, 1293604, 641758, -337413, -52031, -937192, 863841, -76245, -100481, -960729, 591856, 54930, 680102, -250254, -840415, 582358, -48628, -135256, 978586, -599210, -442789, 652924, -1005714, 1167373, -234900, -165147, -52275, -302320, 719028, -1825558, 1287083, -48303, 210234, -236414, 585165, -1400632, 839777, 465229, 317811, -760202, -71868, 795457, -182685, -1242836, 1371884, -445193, 10025, -1043998, 1350395, 80538, -1223250, 104148, 843924, -1808664, 1505005, 306402, -143603, -1266937, -162519, 1862002, -52986, -1627245, 616795, 628522, 90895, -224669]\n"
     ]
    }
   ],
   "source": [
    "# opening the CSV file\n",
    "with open(file_to_load, mode ='r')as file:\n",
    "\n",
    "# reading the CSV file\n",
    "    csvFile = csv.reader(file)\n",
    "    \n",
    "    header = next(csvFile)\n",
    "    \n",
    "    #This will be filled with the values of monthly profit/loss differences between 2 months as a list\n",
    "    delta_monthly_profit_loss = []\n",
    "    \n",
    "    #define the variable for the value of the delta_monthly_profit_loss between each set of months\n",
    "    first_month_date_profit = next(csvFile)\n",
    "    \n",
    "    earlier_month_profit = int(first_month_date_profit[1])\n",
    "    \n",
    "    #describes the loop that does the subtraction between ech set of profit/loss per each two months\n",
    "    for current_monthly_date,current_monthly_profit_loss in csvFile:\n",
    "        delta_monthly_profit_loss.append(int(current_monthly_profit_loss) - earlier_month_profit)\n",
    "        earlier_month_profit = int(current_monthly_profit_loss)\n",
    "            \n",
    "    print(delta_monthly_profit_loss)"
   ]
  },
  {
   "cell_type": "code",
   "execution_count": 8,
   "id": "4a4e82b8",
   "metadata": {},
   "outputs": [
    {
     "name": "stdout",
     "output_type": "stream",
     "text": [
      "Average Change: $-8311.11\n"
     ]
    }
   ],
   "source": [
    "avg_delta_monthly_profit = round((sum(delta_monthly_profit_loss)/len(delta_monthly_profit_loss)),2) \n",
    "\n",
    "#reduce the average change to 2 decimal places \n",
    "print(\"Average Change: $\" + f\"{avg_delta_monthly_profit}\")"
   ]
  },
  {
   "cell_type": "code",
   "execution_count": 9,
   "id": "1492b6e7",
   "metadata": {},
   "outputs": [
    {
     "name": "stdout",
     "output_type": "stream",
     "text": [
      "1862002\n",
      "-1825558\n",
      "Greatest Increase in Profits: Aug-16 $1862002\n",
      "Greatest Decrease in Profits: Feb-14 $-1825558\n"
     ]
    }
   ],
   "source": [
    "max_delta_monthly_profit = max(delta_monthly_profit_loss)\n",
    "print(max_delta_monthly_profit)\n",
    "\n",
    "min_delta_monthly_profit = min(delta_monthly_profit_loss)\n",
    "print(min_delta_monthly_profit)\n",
    "\n",
    "# opening the CSV file\n",
    "with open(file_to_load, mode ='r')as file:\n",
    "\n",
    "# reading the CSV file\n",
    "    csvFile = csv.reader(file)\n",
    "    \n",
    "    header = next(csvFile)\n",
    "    \n",
    "    #define the variable for the value of the delta_monthly_profit_loss between each set of months\n",
    "    first_month_date_profit = next(csvFile)\n",
    "    \n",
    "    earlier_month_profit = int(first_month_date_profit[1])\n",
    "    \n",
    "    #describes the loop that does the subtraction between ech set of profit/loss per each two months\n",
    "    for current_monthly_date,current_monthly_profit_loss in csvFile:\n",
    "        if max_delta_monthly_profit==(int(current_monthly_profit_loss) - earlier_month_profit):\n",
    "            max_profit_month = (current_monthly_date)\n",
    "        if min_delta_monthly_profit==(int(current_monthly_profit_loss) - earlier_month_profit):\n",
    "            min_profit_month = (current_monthly_date)\n",
    "        earlier_month_profit = int(current_monthly_profit_loss)\n",
    "            \n",
    "    print(\"Greatest Increase in Profits: \"+max_profit_month +\" $\" + str(max_delta_monthly_profit))\n",
    "    print(\"Greatest Decrease in Profits: \"+min_profit_month +\" $\" + str(min_delta_monthly_profit))\n",
    "    "
   ]
  },
  {
   "cell_type": "code",
   "execution_count": 10,
   "id": "c4e4e9c2",
   "metadata": {},
   "outputs": [],
   "source": [
    "#print the output to a text file\n",
    "output = open(file_to_output,\"w\")\n",
    "print(\"Financial Analysis\",file=output)\n",
    "print(\"----------------------------\",file=output)\n",
    "print(\"Total Months: \" +str(months(last_date, first_date)),file=output)\n",
    "print(\"Total: $\" + str(running_total),file=output)\n",
    "print(\"Average Change: $\" + \"%.2f\"%avg_delta_monthly_profit,file=output)\n",
    "print(\"Greatest Increase in Profits: (\"+max_profit_month +\" $\" + str(max_delta_monthly_profit)+\")\",file=output)\n",
    "print(\"Greatest Decrease in Profits: (\"+min_profit_month +\" $\" + str(min_delta_monthly_profit)+\")\",file=output)\n",
    "output.close()"
   ]
  }
 ],
 "metadata": {
  "kernelspec": {
   "display_name": "Python 3 (ipykernel)",
   "language": "python",
   "name": "python3"
  },
  "language_info": {
   "codemirror_mode": {
    "name": "ipython",
    "version": 3
   },
   "file_extension": ".py",
   "mimetype": "text/x-python",
   "name": "python",
   "nbconvert_exporter": "python",
   "pygments_lexer": "ipython3",
   "version": "3.9.13"
  }
 },
 "nbformat": 4,
 "nbformat_minor": 5
}
