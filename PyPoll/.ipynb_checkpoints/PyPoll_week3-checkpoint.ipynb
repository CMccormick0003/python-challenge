{
 "cells": [
  {
   "cell_type": "code",
   "execution_count": 1,
   "id": "fff6dbad",
   "metadata": {},
   "outputs": [],
   "source": [
    "import csv\n",
    "import os"
   ]
  },
  {
   "cell_type": "code",
   "execution_count": 2,
   "id": "22e99709",
   "metadata": {},
   "outputs": [],
   "source": [
    "#files to load\n",
    "file_to_load = os.path.join(\".\", \"Resources\",\"election_data.csv\")\n",
    "file_to_output = os.path.join(\".\", \"Analysis\",\"election_analysis.txt\")"
   ]
  },
  {
   "cell_type": "code",
   "execution_count": 3,
   "id": "39e81544",
   "metadata": {},
   "outputs": [],
   "source": [
    "#create variables for each column of data in the file\n",
    "unique_voter_ballot_id = []\n",
    "county = []\n",
    "candidate = []\n",
    "\n",
    "# opening the CSV file\n",
    "with open(file_to_load)as file:\n",
    "\n",
    "    #skips the header row and stores info in the header variable name\n",
    "    header = file.readline()\n",
    "\n",
    "    data = csv.reader(file)\n",
    "    \n",
    "    for line in data:\n",
    "        unique_voter_ballot_id.append(line[0])\n",
    "        county.append(line[1])\n",
    "        candidate.append(line[2])"
   ]
  },
  {
   "cell_type": "code",
   "execution_count": 4,
   "id": "e9963178",
   "metadata": {},
   "outputs": [
    {
     "name": "stdout",
     "output_type": "stream",
     "text": [
      "['1323913', '1005842', '1880345', '1600337', '1835994']\n",
      "['Jefferson', 'Jefferson', 'Jefferson', 'Jefferson', 'Jefferson']\n",
      "['Charles Casper Stockham', 'Charles Casper Stockham', 'Charles Casper Stockham', 'Charles Casper Stockham', 'Charles Casper Stockham']\n"
     ]
    }
   ],
   "source": [
    "print (unique_voter_ballot_id [:5])\n",
    "print (county [:5])\n",
    "print (candidate [:5])"
   ]
  },
  {
   "cell_type": "code",
   "execution_count": 5,
   "id": "8b28fc9f",
   "metadata": {},
   "outputs": [
    {
     "name": "stdout",
     "output_type": "stream",
     "text": [
      "Total Votes: 369711\n"
     ]
    }
   ],
   "source": [
    "total_votes = len(unique_voter_ballot_id)\n",
    "print(\"Total Votes:\",total_votes)"
   ]
  },
  {
   "cell_type": "code",
   "execution_count": 6,
   "id": "1bc934fe",
   "metadata": {},
   "outputs": [
    {
     "data": {
      "text/plain": [
       "['Diana DeGette', 'Charles Casper Stockham', 'Raymon Anthony Doane']"
      ]
     },
     "execution_count": 6,
     "metadata": {},
     "output_type": "execute_result"
    }
   ],
   "source": [
    "#check for set list without duplicates in the candidate list\n",
    "unique_candidate = list(set(candidate))\n",
    "unique_candidate"
   ]
  },
  {
   "cell_type": "code",
   "execution_count": 13,
   "id": "a86f11da",
   "metadata": {},
   "outputs": [
    {
     "name": "stdout",
     "output_type": "stream",
     "text": [
      "Charles Casper Stockham 85213\n",
      "Diana DeGette 272892\n",
      "Raymon Anthony Doane 11606\n"
     ]
    }
   ],
   "source": [
    "#create a variable for the # of votes for each unique candidate.\n",
    "#updated to show charles as position 1 and raymond as position 2 in the list.  This makes the final output for each candidate align with the right person.\n",
    "\n",
    "unique_candidate[0]\n",
    "\n",
    "diana_candidate = candidate.count(unique_candidate[0])\n",
    "charles_candidate = candidate.count(unique_candidate[1])\n",
    "raymon_candidate = candidate.count(unique_candidate[2])\n",
    "\n",
    "print(\"Charles Casper Stockham\",charles_candidate)\n",
    "print(\"Diana DeGette\",diana_candidate)\n",
    "print(\"Raymon Anthony Doane\",raymon_candidate)\n"
   ]
  },
  {
   "cell_type": "code",
   "execution_count": 14,
   "id": "35482898",
   "metadata": {},
   "outputs": [
    {
     "name": "stdout",
     "output_type": "stream",
     "text": [
      "Charles Casper Stockham: 23.049% (85213)\n",
      "Diana DeGette: 73.812% (272892)\n",
      "Raymon Anthony Doane: 3.139% (11606)\n"
     ]
    }
   ],
   "source": [
    "charles_vote_percent = (charles_candidate/total_votes)*100\n",
    "diana_vote_percent = (diana_candidate/total_votes)*100\n",
    "raymon_vote_percent = (raymon_candidate/total_votes)*100\n",
    "\n",
    "#use curly braces as placeholder to hold the variable for the voting percentage.  Cut decimals to 3 spaces.\n",
    "print(f\"Charles Casper Stockham: {charles_vote_percent:.3f}% ({charles_candidate})\")\n",
    "print(f\"Diana DeGette: {diana_vote_percent:.3f}% ({diana_candidate})\")\n",
    "print(f\"Raymon Anthony Doane: {raymon_vote_percent:.3f}% ({raymon_candidate})\")"
   ]
  },
  {
   "cell_type": "code",
   "execution_count": 15,
   "id": "410a6231",
   "metadata": {},
   "outputs": [
    {
     "name": "stdout",
     "output_type": "stream",
     "text": [
      "{'Diana DeGette': 272892, 'Charles Casper Stockham': 11606, 'Raymon Anthony Doane': 85213}\n"
     ]
    }
   ],
   "source": [
    "election_results_dict = dict(zip(unique_candidate, [diana_candidate,raymon_candidate,charles_candidate]))\n",
    "print(election_results_dict)"
   ]
  },
  {
   "cell_type": "code",
   "execution_count": 16,
   "id": "1fb9224a",
   "metadata": {},
   "outputs": [
    {
     "name": "stdout",
     "output_type": "stream",
     "text": [
      "Winner:  Diana DeGette\n"
     ]
    }
   ],
   "source": [
    "#create a variable for the winner that looks at the unique counts of the votes per candidate and compares them\n",
    "for name in election_results_dict:\n",
    "    if election_results_dict [name]==max([diana_candidate,raymon_candidate,charles_candidate]):\n",
    "        winner = name\n",
    "print(\"Winner: \",winner)"
   ]
  },
  {
   "cell_type": "code",
   "execution_count": 17,
   "id": "21344b46",
   "metadata": {},
   "outputs": [
    {
     "name": "stdout",
     "output_type": "stream",
     "text": [
      "Election Results\n",
      "----------------------------\n",
      "Total Votes: 369711\n",
      "----------------------------\n",
      "Charles Casper Stockham: 23.049% (85213)\n",
      "Diana DeGette: 73.812% (272892)\n",
      "Raymon Anthony Doane: 3.139% (11606)\n",
      "----------------------------\n",
      "Winner: Diana DeGette\n",
      "----------------------------\n"
     ]
    }
   ],
   "source": [
    "#print the output to this terminal on the screen\n",
    "print(\"Election Results\")\n",
    "print(\"----------------------------\")\n",
    "print(\"Total Votes:\",total_votes)\n",
    "print(\"----------------------------\")\n",
    "print(f\"Charles Casper Stockham: {charles_vote_percent:.3f}% ({charles_candidate})\")\n",
    "print(f\"Diana DeGette: {diana_vote_percent:.3f}% ({diana_candidate})\")\n",
    "print(f\"Raymon Anthony Doane: {raymon_vote_percent:.3f}% ({raymon_candidate})\")\n",
    "print(\"----------------------------\")\n",
    "print(\"Winner:\",winner) \n",
    "print(\"----------------------------\")"
   ]
  },
  {
   "cell_type": "code",
   "execution_count": 19,
   "id": "2bd3dced",
   "metadata": {},
   "outputs": [],
   "source": [
    "#print the output to a text file\n",
    "output = open(file_to_output,\"w\")\n",
    "print(\"Election Results\",file=output)\n",
    "print(\"----------------------------\",file=output)\n",
    "print(\"Total Votes:\",total_votes,file=output)\n",
    "print(\"----------------------------\",file=output)\n",
    "print(f\"Charles Casper Stockham: {charles_vote_percent:.3f}% ({charles_candidate})\",file=output)\n",
    "print(f\"Diana DeGette: {diana_vote_percent:.3f}% ({diana_candidate})\",file=output)\n",
    "print(f\"Raymon Anthony Doane: {raymon_vote_percent:.3f}% ({raymon_candidate})\",file=output)\n",
    "print(\"----------------------------\",file=output)\n",
    "print(\"Winner:\",winner,file=output) \n",
    "print(\"----------------------------\",file=output)\n",
    "output.close()"
   ]
  }
 ],
 "metadata": {
  "kernelspec": {
   "display_name": "Python 3 (ipykernel)",
   "language": "python",
   "name": "python3"
  },
  "language_info": {
   "codemirror_mode": {
    "name": "ipython",
    "version": 3
   },
   "file_extension": ".py",
   "mimetype": "text/x-python",
   "name": "python",
   "nbconvert_exporter": "python",
   "pygments_lexer": "ipython3",
   "version": "3.9.13"
  }
 },
 "nbformat": 4,
 "nbformat_minor": 5
}
